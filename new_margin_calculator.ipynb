{
 "cells": [
  {
   "cell_type": "code",
   "execution_count": 22,
   "metadata": {},
   "outputs": [
    {
     "name": "stdout",
     "output_type": "stream",
     "text": [
      "env: CUDA_VISIBLE_DEVICES=0\n"
     ]
    },
    {
     "data": {
      "text/plain": [
       "'0'"
      ]
     },
     "execution_count": 22,
     "metadata": {},
     "output_type": "execute_result"
    }
   ],
   "source": [
    "%env CUDA_VISIBLE_DEVICES=0\n",
    "%env CUDA_VISIBLE_DEVICES"
   ]
  },
  {
   "cell_type": "code",
   "execution_count": 23,
   "metadata": {},
   "outputs": [],
   "source": [
    "import numpy as np\n",
    "import torch.optim as optim\n",
    "import torch.nn.functional as F\n",
    "import torch.nn as nn\n",
    "import torch\n",
    "import tqdm\n",
    "import time\n",
    "import os\n",
    "import wandb\n",
    "import torch.backends.cudnn as cudnn\n",
    "import matplotlib.pyplot as plt\n",
    "from collections import OrderedDict\n",
    "from external_utils import format_time\n",
    "from utils.data_preprocessing import preprocess_dataset_get_dataset, generate_dataset_from_loader,preprocess_dataset_get_data_loader,get_data_loader\n",
    "from structure.dlgn_conv_config_structure import DatasetConfig\n",
    "import numpy as np\n",
    "import csv\n",
    "from conv4_models import get_model_instance_from_dataset, get_img_size\n",
    "from utils.forward_visualization_helpers import merge_operations_in_modules, apply_input_on_conv_matrix, merge_layers_operations_in_modules\n",
    "from sklearn import datasets, metrics, svm\n",
    "from tqdm import trange\n",
    "import pickle\n",
    "from structure.generic_structure import SaveFeatures\n",
    "from matplotlib import colors\n",
    "from sklearn.decomposition import PCA\n",
    "from adversarial_attacks_tester import apply_adversarial_attack_on_input"
   ]
  },
  {
   "cell_type": "code",
   "execution_count": 24,
   "metadata": {},
   "outputs": [],
   "source": [
    "adv_attack_type = \"PGD\"\n",
    "adv_target = None\n",
    "number_of_adversarial_optimization_steps = 40\n",
    "eps = 0.3\n",
    "eps_step_size = 0.01\n",
    "update_on='all'\n",
    "rand_init=True\n",
    "norm=np.inf\n",
    "use_ytrue=True\n",
    "number_of_restarts = 1\n",
    "residue_vname = None\n",
    "is_targetted=False"
   ]
  },
  {
   "cell_type": "code",
   "execution_count": 25,
   "metadata": {},
   "outputs": [],
   "source": [
    "device = torch.device(\"cuda\" if torch.cuda.is_available() else \"cpu\")"
   ]
  },
  {
   "cell_type": "code",
   "execution_count": 26,
   "metadata": {},
   "outputs": [
    {
     "name": "stdout",
     "output_type": "stream",
     "text": [
      "np.max(filtered_X_train) 255.0\n",
      "filtered_X_train  1.0 0.0\n",
      "filtered_X_test  1.0 0.0\n"
     ]
    }
   ],
   "source": [
    "model_arch_type = 'dnn'\n",
    "dataset = 'mnist'\n",
    "data_config = DatasetConfig(\n",
    "                dataset, is_normalize_data=True, valid_split_size=0.1, batch_size=256, list_of_classes=None,custom_dataset_path=None)\n",
    "\n",
    "filtered_X_train, filtered_y_train, _, _, filtered_X_test, filtered_y_test = preprocess_dataset_get_dataset(\n",
    "            data_config, model_arch_type, verbose=1, dataset_folder=\"./Datasets/\", is_split_validation=False)\n",
    "print(\"filtered_X_train \",np.max(filtered_X_train),np.min(filtered_X_train))\n",
    "print(\"filtered_X_test \",np.max(filtered_X_test),np.min(filtered_X_test))\n",
    "trainloader = get_data_loader(\n",
    "    filtered_X_train, filtered_y_train, data_config.batch_size, transforms=data_config.train_transforms)\n",
    "testloader = get_data_loader(\n",
    "    filtered_X_test, filtered_y_test, data_config.batch_size, transforms=data_config.test_transforms)\n",
    "\n",
    "# trainloader, _, testloader = preprocess_dataset_get_data_loader(\n",
    "#                 data_config, model_arch_type, verbose=1, dataset_folder=\"./Datasets/\", is_split_validation=False)"
   ]
  },
  {
   "cell_type": "code",
   "execution_count": 27,
   "metadata": {},
   "outputs": [
    {
     "data": {
      "text/plain": [
       "(60000, 10000)"
      ]
     },
     "execution_count": 27,
     "metadata": {},
     "output_type": "execute_result"
    }
   ],
   "source": [
    "len(filtered_X_train),len(filtered_X_test)"
   ]
  },
  {
   "cell_type": "code",
   "execution_count": 28,
   "metadata": {},
   "outputs": [
    {
     "data": {
      "text/plain": [
       "torch.Size([256, 1, 28, 28])"
      ]
     },
     "execution_count": 28,
     "metadata": {},
     "output_type": "execute_result"
    }
   ],
   "source": [
    "tst = next(iter(trainloader))\n",
    "tst[0].size()"
   ]
  },
  {
   "cell_type": "code",
   "execution_count": 29,
   "metadata": {},
   "outputs": [
    {
     "data": {
      "image/png": "[encoded data removed]",
      "text/plain": [
       "<Figure size 640x480 with 1 Axes>"
      ]
     },
     "metadata": {},
     "output_type": "display_data"
    }
   ],
   "source": [
    "img = tst[0][0]\n",
    "npimg = img.numpy()\n",
    "plt.imshow(np.transpose(npimg, (1, 2, 0)))\n",
    "plt.show()"
   ]
  },
  {
   "cell_type": "code",
   "execution_count": 30,
   "metadata": {},
   "outputs": [],
   "source": [
    "def get_misclassified_sample_indices(model_arch_type,mpath,trainloader,fc_width=128,fc_depth = 4,pca_exp_percent=None):\n",
    "    nodes_in_each_layer_list = [fc_width] * fc_depth\n",
    "    model = get_model_instance_from_dataset(dataset,model_arch_type, seed=2022, num_classes=10, nodes_in_each_layer_list=nodes_in_each_layer_list)\n",
    "    model.load_state_dict(torch.load(mpath).state_dict())\n",
    "    model = model.to(device)\n",
    "    model.eval()\n",
    "    correct = 0\n",
    "    total = 0\n",
    "    acc = 0.\n",
    "    incorr_ind_list=[]\n",
    "    corr_ind_list=[]\n",
    "    \n",
    "    loader = tqdm.tqdm(trainloader, desc='Adversarial Evaluating')\n",
    "    for batch_idx, data in enumerate(loader, 0):\n",
    "        (images, labels) = data\n",
    "        images, labels = images.to(\n",
    "            device), labels.to(device)\n",
    "        \n",
    "        adv_images = apply_adversarial_attack_on_input(images, model, eps, adv_attack_type, number_of_adversarial_optimization_steps, eps_step_size, labels, is_targetted,update_on,rand_init,norm,use_ytrue,residue_vname=residue_vname)\n",
    "\n",
    "        outputs = model(adv_images)\n",
    "        \n",
    "        if(len(outputs.size())==1):\n",
    "            predicted = torch.sigmoid(outputs.data).round()\n",
    "        else:\n",
    "            _, predicted = torch.max(outputs.data, 1)\n",
    "        eq = (predicted == labels)\n",
    "        incorr_indices = (eq == False).nonzero().view(-1)+total\n",
    "        incorr_ind_list.extend(incorr_indices.cpu())\n",
    "        corr_indices = (eq == True).nonzero().view(-1)+total\n",
    "        corr_ind_list.extend(corr_indices.cpu())\n",
    "        total += labels.size(0)\n",
    "        correct += (predicted == labels).sum().item()\n",
    "    acc = 100.*correct/total\n",
    "    print(\"acc \",acc)\n",
    "\n",
    "    return  incorr_ind_list,corr_ind_list\n",
    "        "
   ]
  },
  {
   "cell_type": "code",
   "execution_count": 31,
   "metadata": {},
   "outputs": [],
   "source": [
    "def get_margin_change_accuracy(model_arch_type,mpath,trainloader,fc_width=128,fc_depth = 4,pca_exp_percent=None):\n",
    "    nodes_in_each_layer_list = [fc_width] * fc_depth\n",
    "    model = get_model_instance_from_dataset(dataset,model_arch_type, seed=2022, num_classes=10, nodes_in_each_layer_list=nodes_in_each_layer_list)\n",
    "    if(pca_exp_percent is not None):\n",
    "        dataset_for_pca = generate_dataset_from_loader(trainloader)\n",
    "        if(isinstance(dataset_for_pca.list_of_x[0], torch.Tensor)):\n",
    "            dataset_for_pca = torch.stack(\n",
    "                dataset_for_pca.list_of_x), torch.stack(dataset_for_pca.list_of_y)\n",
    "        else:\n",
    "            dataset_for_pca = np.array(dataset_for_pca.list_of_x), np.array(\n",
    "                dataset_for_pca.list_of_y)\n",
    "        number_of_components_for_pca = model.initialize_PCA_transformation(\n",
    "            dataset_for_pca[0], pca_exp_percent)\n",
    "    model.load_state_dict(torch.load(mpath).state_dict())\n",
    "    model = model.to(device)\n",
    "    model.eval()\n",
    "    correct = 0\n",
    "    correct_with_changed_beta = 0\n",
    "    total = 0\n",
    "    mod_beta = 10\n",
    "    real_beta = model.beta\n",
    "    \n",
    "    loader = tqdm.tqdm(trainloader, desc='Margin change evaluation')\n",
    "    for batch_idx, data in enumerate(loader, 0):\n",
    "        (images, labels) = data\n",
    "        images, labels = images.to(\n",
    "            device), labels.to(device)\n",
    "        \n",
    "        outputs = model(images)\n",
    "\n",
    "        if(len(outputs.size())==1):\n",
    "            predicted = torch.sigmoid(outputs.data).round()\n",
    "        else:\n",
    "            _, predicted = torch.max(outputs.data, 1)\n",
    "        total += labels.size(0)\n",
    "        correct += (predicted == labels).sum().item()\n",
    "\n",
    "        model.beta = mod_beta\n",
    "        outputs = model(images)\n",
    "        model.beta = real_beta\n",
    "        \n",
    "        if(len(outputs.size())==1):\n",
    "            predicted = torch.sigmoid(outputs.data).round()\n",
    "        else:\n",
    "            _, predicted = torch.max(outputs.data, 1)\n",
    "        correct_with_changed_beta += (predicted == labels).sum().item()\n",
    "    \n",
    "    acc = 100.*correct/total\n",
    "    acc_changed_beta = 100.*correct_with_changed_beta/total\n",
    "    print(\"Accuracy on original examples with original model beta=4: {} and with modified beta={}: {}\".format(acc,mod_beta,acc_changed_beta))\n",
    "    \n",
    "    return acc"
   ]
  },
  {
   "cell_type": "code",
   "execution_count": 32,
   "metadata": {},
   "outputs": [],
   "source": [
    "def get_margin_folder(model_path):\n",
    "    return model_path.replace(\".pt\",\"/MARGIN_ANALYSIS/\")"
   ]
  },
  {
   "cell_type": "code",
   "execution_count": 33,
   "metadata": {},
   "outputs": [],
   "source": [
    "def generate_effective_convs(model,is_include_pca=False,dummy_input=None):\n",
    "    model.eval()\n",
    "    if(dummy_input is None):\n",
    "        dummy_input = torch.rand(get_img_size(dataset)).unsqueeze(0)\n",
    "\n",
    "    dummy_input = dummy_input.to(device)\n",
    "    print(\"dummy_input \",dummy_input.size())\n",
    "    conv_matrix_operations_in_each_layer, conv_bias_operations_in_each_layer, channel_outs_size_in_each_layer = model.exact_forward_vis(dummy_input,is_include_pca)\n",
    "\n",
    "    return conv_matrix_operations_in_each_layer,conv_bias_operations_in_each_layer,channel_outs_size_in_each_layer"
   ]
  },
  {
   "cell_type": "code",
   "execution_count": 34,
   "metadata": {},
   "outputs": [],
   "source": [
    "pgdat_path = \"root/model/save/mnist/adversarial_training/MT_fc_dlgn_W_128_D_4_ET_ADV_TRAINING/ST_2022/fast_adv_attack_type_PGD/adv_type_PGD/EPS_0.3/batch_size_64/eps_stp_size_0.01/adv_steps_40/update_on_all/R_init_True/norm_inf/use_ytrue_True/adv_model_dir.pt\"\n",
    "# std_path = \"root/model/save/mnist/CLEAN_TRAINING/ST_2022/fc_dlgn_W_128_D_4_dir.pt\"\n",
    "std_path = \"root/model/save/mnist/adversarial_training/MT_fc_dlgn_W_128_D_4_PCA_K155_P_0.95_ET_ADV_TRAINING/ST_2022/fast_adv_attack_type_PGD/adv_type_PGD/EPS_0.3/OPT_Adam (Parameter Group 0    amsgrad: False    betas: (0.9, 0.999)    eps: 1e-08    lr: 0.0001    weight_decay: 0)/batch_size_64/eps_stp_size_0.01/adv_steps_40/update_on_all/R_init_True/norm_inf/use_ytrue_True/out_lossfn_CrossEntropyLoss()/inner_lossfn_CrossEntropyLoss()/adv_model_dir.pt\""
   ]
  },
  {
   "cell_type": "code",
   "execution_count": 14,
   "metadata": {},
   "outputs": [
    {
     "name": "stdout",
     "output_type": "stream",
     "text": [
      "self.gating_network Gating network  \n",
      " module_list:Linear(in_features=784, out_features=128, bias=True) \n",
      " Params in module is:100480\n",
      "Linear(in_features=128, out_features=128, bias=True) \n",
      " Params in module is:16512\n",
      "Linear(in_features=128, out_features=128, bias=True) \n",
      " Params in module is:16512\n",
      "Linear(in_features=128, out_features=128, bias=True) \n",
      " Params in module is:16512\n",
      "\n",
      "Gating net params: 150016\n",
      "self.value_network Value network  \n",
      " module_list:Linear(in_features=784, out_features=128, bias=True) \n",
      " Params in module is:100480\n",
      "Linear(in_features=128, out_features=128, bias=True) \n",
      " Params in module is:16512\n",
      "Linear(in_features=128, out_features=128, bias=True) \n",
      " Params in module is:16512\n",
      "Linear(in_features=128, out_features=128, bias=True) \n",
      " Params in module is:16512\n",
      "\n",
      "Value net params: 151306\n"
     ]
    },
    {
     "name": "stderr",
     "output_type": "stream",
     "text": [
      "Margin change evaluation:   0%|          | 0/235 [00:00<?, ?it/s]"
     ]
    },
    {
     "name": "stderr",
     "output_type": "stream",
     "text": [
      "Margin change evaluation: 100%|██████████| 235/235 [00:01<00:00, 121.55it/s]"
     ]
    },
    {
     "name": "stdout",
     "output_type": "stream",
     "text": [
      "Accuracy on original examples with original model beta=4: 66.08333333333333 and with modified beta=10: 66.05833333333334\n"
     ]
    },
    {
     "name": "stderr",
     "output_type": "stream",
     "text": [
      "\n"
     ]
    },
    {
     "data": {
      "text/plain": [
       "66.08333333333333"
      ]
     },
     "execution_count": 14,
     "metadata": {},
     "output_type": "execute_result"
    }
   ],
   "source": [
    "get_margin_change_accuracy(\"fc_dlgn\",pgdat_path,trainloader)"
   ]
  },
  {
   "cell_type": "code",
   "execution_count": null,
   "metadata": {},
   "outputs": [],
   "source": [
    "get_margin_change_accuracy(\"fc_dlgn\",std_path,trainloader,pca_exp_percent=0.95)"
   ]
  },
  {
   "cell_type": "code",
   "execution_count": null,
   "metadata": {},
   "outputs": [],
   "source": [
    "incorr_ind_pgdat,corr_ind_pgdat = get_misclassified_sample_indices(\"fc_dlgn\",pgdat_path,trainloader)\n",
    "len(incorr_ind_pgdat),len(corr_ind_pgdat)"
   ]
  },
  {
   "cell_type": "code",
   "execution_count": null,
   "metadata": {},
   "outputs": [],
   "source": [
    "\n",
    "incorr_ind_std,corr_ind_std = get_misclassified_sample_indices(\"fc_dlgn\",std_path,trainloader)\n",
    "len(incorr_ind_std),len(corr_ind_std)"
   ]
  },
  {
   "cell_type": "code",
   "execution_count": null,
   "metadata": {},
   "outputs": [
    {
     "data": {
      "text/plain": [
       "(torch.Size([60000, 1, 28, 28]), torch.Size([60000]))"
      ]
     },
     "execution_count": 55,
     "metadata": {},
     "output_type": "execute_result"
    }
   ],
   "source": [
    "filtered_X_train_tensor,filtered_y_train_tensor = torch.tensor(filtered_X_train),torch.tensor(filtered_y_train)\n",
    "filtered_X_train_tensor.size(),filtered_y_train_tensor.size()"
   ]
  },
  {
   "cell_type": "code",
   "execution_count": null,
   "metadata": {},
   "outputs": [
    {
     "data": {
      "text/plain": [
       "(torch.Size([10, 1, 28, 28]), torch.Size([10]))"
      ]
     },
     "execution_count": 56,
     "metadata": {},
     "output_type": "execute_result"
    }
   ],
   "source": [
    "corr_Xtrain_pgdat,corr_ytrain_pgdat = filtered_X_train_tensor[[corr_ind_pgdat[:10]]],filtered_y_train_tensor[[corr_ind_pgdat[:10]]]\n",
    "corr_Xtrain_pgdat.size(),corr_ytrain_pgdat.size()"
   ]
  },
  {
   "cell_type": "code",
   "execution_count": 35,
   "metadata": {},
   "outputs": [],
   "source": [
    "def get_batch_margin(model,conv_matrix_operations_in_each_layer,outcapturer):\n",
    "    cur_batch_margins = None\n",
    "    for key,cur_m in model.get_gate_layers_ordered_dict().items():\n",
    "        cur_w = conv_matrix_operations_in_each_layer[key]\n",
    "        cur_eff_w_norm = torch.norm(cur_w,p=2,dim=1).unsqueeze(0).to(device=outcapturer[key].features.device)\n",
    "        cur_margin = torch.flatten(outcapturer[key].features,1)/cur_eff_w_norm\n",
    "        if(cur_batch_margins is None):\n",
    "            cur_batch_margins = cur_margin.T\n",
    "        else:\n",
    "            cur_batch_margins = torch.vstack([cur_batch_margins,cur_margin.T])\n",
    "\n",
    "    return cur_batch_margins"
   ]
  },
  {
   "cell_type": "code",
   "execution_count": 36,
   "metadata": {},
   "outputs": [],
   "source": [
    "def get_flip_dist_hyperplanes_per_model(model,trainloader,number_of_components_for_pca=None):\n",
    "    outcapturer = OrderedDict()\n",
    "    for key,cur_m in model.get_gate_layers_ordered_dict().items():\n",
    "        if isinstance(cur_m, nn.Linear) or isinstance(cur_m, nn.Conv2d):\n",
    "            print(key,cur_m.weight.size(),cur_m.bias.size(),cur_m.weight.dtype,cur_m.bias.dtype)\n",
    "            outcapturer[key] = SaveFeatures(cur_m)\n",
    "\n",
    "    dummy_input = None\n",
    "    if(number_of_components_for_pca is not None):\n",
    "        dummy_input = torch.rand((1,number_of_components_for_pca)).unsqueeze(0)\n",
    "    eff_weights,eff_bias,chouts = generate_effective_convs(model,dummy_input)\n",
    "\n",
    "\n",
    "    res=None\n",
    "    loader = tqdm.tqdm(trainloader, desc='Generating Distance from HP')\n",
    "    for batch_idx, data in enumerate(loader, 0):\n",
    "        (X, y) = data\n",
    "        X, y = X.to(device), y.to(device)\n",
    "        \n",
    "        adv_img = apply_adversarial_attack_on_input(X, model, eps, adv_attack_type, number_of_adversarial_optimization_steps, eps_step_size, y, is_targetted,update_on,rand_init,norm,use_ytrue,residue_vname=residue_vname)\n",
    "\n",
    "        model(X)\n",
    "        dist_hp_org = torch.sign(get_batch_margin(model,eff_weights,outcapturer))\n",
    "\n",
    "        model(adv_img)\n",
    "        dist_hp_adv = torch.sign(get_batch_margin(model,eff_weights,outcapturer))\n",
    "        tmp = dist_hp_org * dist_hp_adv\n",
    "        o=torch.ones(1).to(device=tmp.device)\n",
    "        z=torch.zeros(1).to(device=tmp.device)\n",
    "        tmp=torch.where(tmp<0,o,z)\n",
    "        tmp = torch.sum(tmp,dim=-1)\n",
    "        if(res is None):\n",
    "            res = tmp\n",
    "        else:\n",
    "            res += tmp\n",
    "\n",
    "    for key,cur_m in model.get_gate_layers_ordered_dict().items():\n",
    "        if isinstance(cur_m, nn.Linear) or isinstance(cur_m, nn.Conv2d):\n",
    "            outcapturer[key].close()\n",
    "    \n",
    "    return res\n",
    "        "
   ]
  },
  {
   "cell_type": "code",
   "execution_count": 37,
   "metadata": {},
   "outputs": [],
   "source": [
    "def get_flip_dist_hyperplanes(model_arch_type,trainloader,std_path,pgd_path,fc_width=128,fc_depth = 4):\n",
    "    nodes_in_each_layer_list = [fc_width] * fc_depth\n",
    "    std_model = get_model_instance_from_dataset(dataset,model_arch_type, seed=2022, num_classes=10, nodes_in_each_layer_list=nodes_in_each_layer_list)\n",
    "    std_model.load_state_dict(torch.load(std_path).state_dict())\n",
    "    std_model = std_model.to(device)\n",
    "\n",
    "    pgdat_model = get_model_instance_from_dataset(dataset,model_arch_type, seed=2022, num_classes=10, nodes_in_each_layer_list=nodes_in_each_layer_list)\n",
    "    pgdat_model.load_state_dict(torch.load(pgd_path).state_dict())\n",
    "    pgdat_model = pgdat_model.to(device)\n",
    "\n",
    "    flip_dist_pgdat = get_flip_dist_hyperplanes_per_model(pgdat_model,trainloader)\n",
    "    print(flip_dist_pgdat.shape)\n",
    "    flip_dist_stdtr = get_flip_dist_hyperplanes_per_model(std_model,trainloader)\n",
    "    \n",
    "    save_folder = get_margin_folder(pgd_path)+\"/\"+get_margin_folder(std_path)\n",
    "    if not os.path.exists(save_folder):\n",
    "        os.makedirs(save_folder)\n",
    "    \n",
    "    fig, axs = plt.subplots(2,1,figsize=(100, 100))\n",
    "    \n",
    "    xs = np.arange(flip_dist_pgdat.shape[0])\n",
    "\n",
    "    axs[0].bar(xs, flip_dist_pgdat.detach().cpu().numpy())\n",
    "    axs[0].set_title('Flip Distribution of PGD-AT HPs',fontsize=35)\n",
    "    axs[1].set_ylabel(\"Frequency\",fontsize=35)\n",
    "    axs[0].set_xlabel(\"Hyperplane Index\",fontsize=35)\n",
    "    axs[0].set_xticks(list(np.arange(0,flip_dist_pgdat.shape[0],10)),fontsize=35)\n",
    "\n",
    "    axs[1].bar(xs, flip_dist_stdtr.detach().cpu().numpy())\n",
    "    axs[1].set_title('Flip Distribution of STD-TR HPs',fontsize=35)\n",
    "    axs[1].set_ylabel(\"Frequency\",fontsize=35)\n",
    "    axs[1].set_xlabel(\"Hyperplane Index\",fontsize=35)\n",
    "    axs[1].set_xticks(list(np.arange(0,flip_dist_stdtr.shape[0],10)),fontsize=35)\n",
    "\n",
    "    plt.savefig(save_folder+\"/hyperplane_flip_distribution.jpg\")\n",
    "    plt.savefig(save_folder+\"/hyperplane_flip_distribution.pdf\")\n",
    "\n",
    "    rows =[[a.item(),b.item()] for a,b in zip(flip_dist_pgdat,flip_dist_stdtr)]\n",
    "    with open(save_folder+\"/hyperplane_flip_distribution.csv\", 'w', newline='') as f:\n",
    "        writer = csv.writer(f)\n",
    "        writer.writerows([[\"PGD-AT flip-dist\",\"STD-TR flip-dist\"]])\n",
    "        writer.writerows(rows)\n",
    "\n",
    "    plt.show()"
   ]
  },
  {
   "cell_type": "code",
   "execution_count": 38,
   "metadata": {},
   "outputs": [
    {
     "name": "stdout",
     "output_type": "stream",
     "text": [
      "self.gating_network Gating network  \n",
      " module_list:Linear(in_features=784, out_features=64, bias=True) \n",
      " Params in module is:50240\n",
      "Linear(in_features=64, out_features=64, bias=True) \n",
      " Params in module is:4160\n",
      "Linear(in_features=64, out_features=64, bias=True) \n",
      " Params in module is:4160\n",
      "Linear(in_features=64, out_features=64, bias=True) \n",
      " Params in module is:4160\n",
      "\n",
      "Gating net params: 62720\n",
      "self.value_network Value network  \n",
      " module_list:Linear(in_features=784, out_features=64, bias=True) \n",
      " Params in module is:50240\n",
      "Linear(in_features=64, out_features=64, bias=True) \n",
      " Params in module is:4160\n",
      "Linear(in_features=64, out_features=64, bias=True) \n",
      " Params in module is:4160\n",
      "Linear(in_features=64, out_features=64, bias=True) \n",
      " Params in module is:4160\n",
      "\n",
      "Value net params: 63370\n",
      "self.gating_network Gating network  \n",
      " module_list:Linear(in_features=784, out_features=64, bias=True) \n",
      " Params in module is:50240\n",
      "Linear(in_features=64, out_features=64, bias=True) \n",
      " Params in module is:4160\n",
      "Linear(in_features=64, out_features=64, bias=True) \n",
      " Params in module is:4160\n",
      "Linear(in_features=64, out_features=64, bias=True) \n",
      " Params in module is:4160\n",
      "\n",
      "Gating net params: 62720\n",
      "self.value_network Value network  \n",
      " module_list:Linear(in_features=784, out_features=64, bias=True) \n",
      " Params in module is:50240\n",
      "Linear(in_features=64, out_features=64, bias=True) \n",
      " Params in module is:4160\n",
      "Linear(in_features=64, out_features=64, bias=True) \n",
      " Params in module is:4160\n",
      "Linear(in_features=64, out_features=64, bias=True) \n",
      " Params in module is:4160\n",
      "\n",
      "Value net params: 63370\n",
      "fc0_g torch.Size([64, 784]) torch.Size([64]) torch.float32 torch.float32\n",
      "fc1_g torch.Size([64, 64]) torch.Size([64]) torch.float32 torch.float32\n",
      "fc2_g torch.Size([64, 64]) torch.Size([64]) torch.float32 torch.float32\n",
      "fc3_g torch.Size([64, 64]) torch.Size([64]) torch.float32 torch.float32\n",
      "dummy_input  torch.Size([1, 1, 28, 28])\n",
      "current_tensor_size  torch.Size([1, 784])\n",
      "current_layer Linear(in_features=784, out_features=64, bias=True)\n",
      "difference_in_output  tensor(0., device='cuda:0')\n",
      "current_layer Linear(in_features=64, out_features=64, bias=True)\n",
      "difference_in_output  tensor(5.4240e-06, device='cuda:0')\n",
      "current_layer Linear(in_features=64, out_features=64, bias=True)\n",
      "difference_in_output  tensor(6.8471e-06, device='cuda:0')\n",
      "current_layer Linear(in_features=64, out_features=64, bias=True)\n",
      "difference_in_output  tensor(7.0743e-06, device='cuda:0')\n"
     ]
    },
    {
     "name": "stderr",
     "output_type": "stream",
     "text": [
      "Generating Distance from HP: 100%|██████████| 235/235 [01:24<00:00,  2.78it/s]\n"
     ]
    },
    {
     "name": "stdout",
     "output_type": "stream",
     "text": [
      "torch.Size([256])\n",
      "fc0_g torch.Size([64, 784]) torch.Size([64]) torch.float32 torch.float32\n",
      "fc1_g torch.Size([64, 64]) torch.Size([64]) torch.float32 torch.float32\n",
      "fc2_g torch.Size([64, 64]) torch.Size([64]) torch.float32 torch.float32\n",
      "fc3_g torch.Size([64, 64]) torch.Size([64]) torch.float32 torch.float32\n",
      "dummy_input  torch.Size([1, 1, 28, 28])\n",
      "current_tensor_size  torch.Size([1, 784])\n",
      "current_layer Linear(in_features=784, out_features=64, bias=True)\n",
      "difference_in_output  tensor(0., device='cuda:0')\n",
      "current_layer Linear(in_features=64, out_features=64, bias=True)\n",
      "difference_in_output  tensor(1.4186e-05, device='cuda:0')\n",
      "current_layer Linear(in_features=64, out_features=64, bias=True)\n",
      "difference_in_output  tensor(1.7697e-05, device='cuda:0')\n",
      "current_layer Linear(in_features=64, out_features=64, bias=True)\n",
      "difference_in_output  tensor(2.7776e-05, device='cuda:0')\n"
     ]
    },
    {
     "name": "stderr",
     "output_type": "stream",
     "text": [
      "Generating Distance from HP:  50%|████▉     | 117/235 [00:45<00:45,  2.58it/s]"
     ]
    },
    {
     "ename": "",
     "evalue": "",
     "output_type": "error",
     "traceback": [
      "\u001b[1;31mThe Kernel crashed while executing code in the current cell or a previous cell. \n",
      "\u001b[1;31mPlease review the code in the cell(s) to identify a possible cause of the failure. \n",
      "\u001b[1;31mClick <a href='https://aka.ms/vscodeJupyterKernelCrash'>here</a> for more info. \n",
      "\u001b[1;31mView Jupyter <a href='command:jupyter.viewOutput'>log</a> for further details."
     ]
    }
   ],
   "source": [
    "# pgdat_path = \"root/model/save/mnist/adversarial_training/MT_fc_dlgn_W_128_D_4_ET_ADV_TRAINING/ST_2022/fast_adv_attack_type_PGD/adv_type_PGD/EPS_0.3/batch_size_64/eps_stp_size_0.01/adv_steps_40/update_on_all/R_init_True/norm_inf/use_ytrue_True/adv_model_dir.pt\"\n",
    "# pgdat_path = \"root/model/save/fashion_mnist/adversarial_training/MT_fc_dlgn_W_128_D_4_ET_ADV_TRAINING/ST_2022/fast_adv_attack_type_PGD/adv_type_PGD/EPS_0.3/OPT_Adam (Parameter Group 0    amsgrad: False    betas: (0.9, 0.999)    eps: 1e-08    lr: 0.0001    weight_decay: 0)/batch_size_64/eps_stp_size_0.01/adv_steps_40/update_on_all/R_init_True/norm_inf/use_ytrue_True/out_lossfn_CrossEntropyLoss()/inner_lossfn_CrossEntropyLoss()/adv_model_dir.pt\"\n",
    "pgdat_path = \"root/model/save/mnist/adversarial_training/MT_fc_dlgn_W_64_D_4_ET_ADV_TRAINING/ST_2022/fast_adv_attack_type_PGD/adv_type_PGD/EPS_0.3/OPT_Adam (Parameter Group 0    amsgrad: False    betas: (0.9, 0.999)    eps: 1e-08    lr: 0.0001    weight_decay: 0)/batch_size_64/eps_stp_size_0.01/adv_steps_40/update_on_all/R_init_True/norm_inf/use_ytrue_True/out_lossfn_CrossEntropyLoss()/inner_lossfn_CrossEntropyLoss()/adv_model_dir.pt\"\n",
    "# std_path = \"root/model/save/mnist/CLEAN_TRAINING/ST_2022/fc_dlgn_W_128_D_4_dir.pt\"\n",
    "std_path = \"root/model/save/mnist/CLEAN_TRAINING/ST_2022/fc_dlgn_W_64_D_4_dir.pt\"\n",
    "get_flip_dist_hyperplanes(\"fc_dlgn\",trainloader,std_path,pgdat_path,fc_width=64)"
   ]
  },
  {
   "cell_type": "code",
   "execution_count": 15,
   "metadata": {},
   "outputs": [],
   "source": [
    "def get_per_sample_dist_info(model,sample_ind):\n",
    "    X,y = filtered_X_train_tensor[sample_ind].unsqueeze(0).to(device),filtered_y_train_tensor[sample_ind].unsqueeze(0).to(device)\n",
    "    print(X.size(),y.size())\n",
    "    org_pred = torch.max(model(X).data, 1)[1].item()\n",
    "    adv_img = apply_adversarial_attack_on_input(X, model, eps, adv_attack_type, number_of_adversarial_optimization_steps, eps_step_size, y, is_targetted,update_on,rand_init,norm,use_ytrue,residue_vname=residue_vname)\n",
    "    adv_pred = torch.max(model(adv_img).data, 1)[1].item()\n",
    "\n",
    "    eff_weights,eff_bias,chouts = generate_effective_convs(model)\n",
    "\n",
    "    outcapturer = OrderedDict()\n",
    "    for key,cur_m in model.get_gate_layers_ordered_dict().items():\n",
    "        if isinstance(cur_m, nn.Linear) or isinstance(cur_m, nn.Conv2d):\n",
    "            print(key,cur_m.weight.size(),cur_m.bias.size())\n",
    "            outcapturer[key] = SaveFeatures(cur_m)\n",
    "\n",
    "    model(X)\n",
    "    dist_hp_org = get_batch_margin(model,eff_weights,outcapturer)\n",
    "\n",
    "    model(adv_img)\n",
    "    dist_hp_adv = get_batch_margin(model,eff_weights,outcapturer)\n",
    "\n",
    "    for key,cur_m in model.get_gate_layers_ordered_dict().items():\n",
    "        if isinstance(cur_m, nn.Linear) or isinstance(cur_m, nn.Conv2d):\n",
    "            outcapturer[key].close()\n",
    "\n",
    "    return org_pred,adv_pred,adv_img,adv_img - X,dist_hp_org.squeeze(-1),dist_hp_adv.squeeze(-1)"
   ]
  },
  {
   "cell_type": "code",
   "execution_count": 216,
   "metadata": {},
   "outputs": [],
   "source": [
    "def plot_sample_wise_hp_dist_std_vs_pgd(model_arch_type,sample_ind,std_path,pgd_path,fc_width=128,fc_depth = 4):\n",
    "    nodes_in_each_layer_list = [fc_width] * fc_depth\n",
    "    std_model = get_model_instance_from_dataset(dataset,model_arch_type, seed=2022, num_classes=10, nodes_in_each_layer_list=nodes_in_each_layer_list)\n",
    "    std_model.load_state_dict(torch.load(std_path).state_dict())\n",
    "    std_model = std_model.to(device)\n",
    "\n",
    "    pgdat_model = get_model_instance_from_dataset(dataset,model_arch_type, seed=2022, num_classes=10, nodes_in_each_layer_list=nodes_in_each_layer_list)\n",
    "    pgdat_model.load_state_dict(torch.load(pgd_path).state_dict())\n",
    "    pgdat_model = pgdat_model.to(device)\n",
    "\n",
    "    org_label = filtered_y_train_tensor[sample_ind].to(device)\n",
    "    \n",
    "    std_org_pred,std_adv_pred,std_adv_img,pert_std,dist_hp_std_org,dist_hp_std_adv = get_per_sample_dist_info(std_model,sample_ind)\n",
    "    pgdat_org_pred,pgdat_adv_pred,pgdat_adv_img,pert_pgdat,dist_hp_pgdat_org,dist_hp_pgdat_adv = get_per_sample_dist_info(pgdat_model,sample_ind)\n",
    "    \n",
    "    save_folder = get_margin_folder(pgd_path)+\"/\"+get_margin_folder(std_path)+\"/Sind_{}_c_{}_stdadv_pr_{}_pgdadv_pr_{}\".format(sample_ind,org_label,std_adv_pred,pgdat_adv_pred)\n",
    "    if not os.path.exists(save_folder):\n",
    "        os.makedirs(save_folder)\n",
    "    \n",
    "    width = 0.5\n",
    "    hw=0.2\n",
    "    fig, axs = plt.subplots(2,2,figsize=(50, 50))\n",
    "\n",
    "    im=axs[0,0].imshow(pert_std[0][0].detach().cpu().numpy(), interpolation='nearest')\n",
    "    axs[0,0].set_title(\"Perturbation image:{} on STD-TR\".format(sample_ind),fontsize=35)\n",
    "    plt.colorbar(im, ax=axs[0,0])\n",
    "\n",
    "    im=axs[0,1].imshow(std_adv_img[0][0].detach().cpu().numpy(), interpolation='nearest')\n",
    "    axs[0,1].set_title(\"Adversarial image:{} on STD-TR\".format(sample_ind),fontsize=35)\n",
    "    plt.colorbar(im, ax=axs[0,1])\n",
    "\n",
    "    im=axs[1,0].imshow(pert_pgdat[0][0].detach().cpu().numpy(), interpolation='nearest')\n",
    "    axs[1,0].set_title(\"Perturbation image:{} on PGD-AT\".format(sample_ind),fontsize=35)\n",
    "    plt.colorbar(im, ax=axs[1,0])\n",
    "\n",
    "    im=axs[1,1].imshow(pgdat_adv_img[0][0].detach().cpu().numpy(), interpolation='nearest')\n",
    "    axs[1,1].set_title(\"Adversarial image:{} on PGD-AT\".format(sample_ind),fontsize=35)\n",
    "    plt.colorbar(im, ax=axs[1,1])\n",
    "\n",
    "    plt.savefig(save_folder+\"/images_std_pgdat_ind_{}_c_{}_stdadv_pr_{}_pgdadv_pr_{}.jpg\".format(sample_ind,org_label,std_adv_pred,pgdat_adv_pred))\n",
    "    plt.savefig(save_folder+\"/images_std_pgdat_ind_{}_c_{}_stdadv_pr_{}_pgdadv_pr_{}.pdf\".format(sample_ind,org_label,std_adv_pred,pgdat_adv_pred))\n",
    "\n",
    "    rows =[[a.item(),b.item(),c.item(),d.item()] for a,b,c,d in zip(dist_hp_std_org,dist_hp_std_adv,dist_hp_pgdat_org,dist_hp_pgdat_adv)]\n",
    "    with open(save_folder+\"/distance_from_HP_stats_ind_{}_c_{}_stdadv_pr_{}_pgdadv_pr_{}.csv\".format(sample_ind,org_label,std_adv_pred,pgdat_adv_pred), 'w', newline='') as f:\n",
    "        writer = csv.writer(f)\n",
    "        writer.writerows([[\"STD-TR org\",\"STD-TR adv\",\"PGD-AT org\",\"PGD-AT adv\"]])\n",
    "        writer.writerows(rows)\n",
    "\n",
    "    fig, axs = plt.subplots(4,1,figsize=(100, 100))\n",
    "    \n",
    "    xs = np.arange(dist_hp_std_org.shape[0])\n",
    "    \n",
    "    axs[0].bar(xs, dist_hp_std_org.detach().cpu().numpy())\n",
    "    axs[0].set_title('Distance from HP STD-TR original image:{}'.format(sample_ind),fontsize=35)\n",
    "    axs[0].set_xlabel(\"Hyperplane Index\",fontsize=35)\n",
    "    axs[0].set_xticks(list(np.arange(0,dist_hp_std_org.shape[0],10)),fontsize=35)\n",
    "\n",
    "    axs[1].bar(xs, dist_hp_std_adv.detach().cpu().numpy())\n",
    "    axs[1].set_title('Distance from HP STD-TR adversarial image:{}'.format(sample_ind),fontsize=35)\n",
    "    axs[1].set_xlabel(\"Hyperplane Index\",fontsize=35)\n",
    "    axs[1].set_xticks(list(np.arange(0,dist_hp_std_org.shape[0],10)),fontsize=35)\n",
    "\n",
    "    xs = np.arange(dist_hp_std_org.shape[0])\n",
    "\n",
    "    axs[2].bar(xs, dist_hp_pgdat_org.detach().cpu().numpy())\n",
    "    axs[2].set_title('Distance from HP PGD-AT original image:{}'.format(sample_ind),fontsize=35)\n",
    "    axs[2].set_xlabel(\"Hyperplane Index\",fontsize=35)\n",
    "    axs[2].set_xticks(list(np.arange(0,dist_hp_std_org.shape[0],10)),fontsize=35)\n",
    "\n",
    "    axs[3].bar(xs, dist_hp_pgdat_adv.detach().cpu().numpy())\n",
    "    axs[3].set_title('Distance from HP PGD-AT adversarial image:{}'.format(sample_ind),fontsize=35)\n",
    "    axs[3].set_xlabel(\"Hyperplane Index\",fontsize=35)\n",
    "    axs[3].set_xticks(list(np.arange(0,dist_hp_std_org.shape[0],10)),fontsize=35)\n",
    "\n",
    "    print(\"org_label:{}    std_org_pred:{}    std_adv_pred:{}\".format(org_label,std_org_pred,std_adv_pred))\n",
    "    print(\"org_label:{}    pgdat_org_pred:{}  pgdat_adv_pred:{}\".format(org_label,pgdat_org_pred,pgdat_adv_pred))\n",
    "\n",
    "    \n",
    "    plt.savefig(save_folder+\"/distance_from_HP_stats_ind_{}_c_{}_stdadv_pr_{}_pgdadv_pr_{}.jpg\".format(sample_ind,org_label,std_adv_pred,pgdat_adv_pred))\n",
    "    plt.savefig(save_folder+\"/distance_from_HP_stats_ind_{}_c_{}_stdadv_pr_{}_pgdadv_pr_{}.pdf\".format(sample_ind,org_label,std_adv_pred,pgdat_adv_pred))\n",
    "    print(\"Stored at \",save_folder)\n",
    "    # plt.show()"
   ]
  },
  {
   "cell_type": "code",
   "execution_count": 212,
   "metadata": {},
   "outputs": [],
   "source": [
    "all_class_indices=[None]*10\n",
    "i=0\n",
    "cnt=0\n",
    "while(cnt<10):\n",
    "    cl = filtered_y_train_tensor[corr_ind_pgdat[i].item()]\n",
    "    if(all_class_indices[cl] is None):\n",
    "        all_class_indices[cl]=i\n",
    "        cnt+=1\n",
    "    i+=1"
   ]
  },
  {
   "cell_type": "code",
   "execution_count": null,
   "metadata": {},
   "outputs": [],
   "source": [
    "for ind in all_class_indices:\n",
    "    plot_sample_wise_hp_dist_std_vs_pgd(\"fc_dlgn\",corr_ind_pgdat[ind].item(),std_path,pgdat_path)"
   ]
  },
  {
   "cell_type": "code",
   "execution_count": null,
   "metadata": {},
   "outputs": [],
   "source": []
  }
 ],
 "metadata": {
  "kernelspec": {
   "display_name": "research-work-DAG-DNN",
   "language": "python",
   "name": "python3"
  },
  "language_info": {
   "codemirror_mode": {
    "name": "ipython",
    "version": 3
   },
   "file_extension": ".py",
   "mimetype": "text/x-python",
   "name": "python",
   "nbconvert_exporter": "python",
   "pygments_lexer": "ipython3",
   "version": "3.7.13"
  }
 },
 "nbformat": 4,
 "nbformat_minor": 2
}
