{
 "cells": [
  {
   "cell_type": "code",
   "execution_count": 1,
   "metadata": {},
   "outputs": [
    {
     "name": "stderr",
     "output_type": "stream",
     "text": [
      "Using TensorFlow backend.\n",
      "2024-10-02 02:05:57.474723: W tensorflow/stream_executor/platform/default/dso_loader.cc:55] Could not load dynamic library 'libnvinfer.so.6'; dlerror: libnvinfer.so.6: cannot open shared object file: No such file or directory\n",
      "2024-10-02 02:05:57.474906: W tensorflow/stream_executor/platform/default/dso_loader.cc:55] Could not load dynamic library 'libnvinfer_plugin.so.6'; dlerror: libnvinfer_plugin.so.6: cannot open shared object file: No such file or directory\n",
      "2024-10-02 02:05:57.474919: W tensorflow/compiler/tf2tensorrt/utils/py_utils.cc:30] Cannot dlopen some TensorRT libraries. If you would like to use Nvidia GPU with TensorRT, please make sure the missing libraries mentioned above are installed properly.\n",
      "2024-10-02 02:05:58.538393: I tensorflow/stream_executor/platform/default/dso_loader.cc:44] Successfully opened dynamic library libcuda.so.1\n",
      "2024-10-02 02:05:58.618656: I tensorflow/core/common_runtime/gpu/gpu_device.cc:1555] Found device 0 with properties: \n",
      "pciBusID: 0000:89:00.0 name: Tesla V100-SXM2-32GB computeCapability: 7.0\n",
      "coreClock: 1.53GHz coreCount: 80 deviceMemorySize: 31.75GiB deviceMemoryBandwidth: 836.37GiB/s\n",
      "2024-10-02 02:05:58.618856: W tensorflow/stream_executor/platform/default/dso_loader.cc:55] Could not load dynamic library 'libcudart.so.10.1'; dlerror: libcudart.so.10.1: cannot open shared object file: No such file or directory\n",
      "2024-10-02 02:05:58.618967: W tensorflow/stream_executor/platform/default/dso_loader.cc:55] Could not load dynamic library 'libcublas.so.10'; dlerror: libcublas.so.10: cannot open shared object file: No such file or directory\n",
      "2024-10-02 02:05:58.619019: I tensorflow/stream_executor/platform/default/dso_loader.cc:44] Successfully opened dynamic library libcufft.so.10\n",
      "2024-10-02 02:05:58.619048: I tensorflow/stream_executor/platform/default/dso_loader.cc:44] Successfully opened dynamic library libcurand.so.10\n",
      "2024-10-02 02:05:58.619176: W tensorflow/stream_executor/platform/default/dso_loader.cc:55] Could not load dynamic library 'libcusolver.so.10'; dlerror: libcusolver.so.10: cannot open shared object file: No such file or directory\n",
      "2024-10-02 02:05:58.619271: W tensorflow/stream_executor/platform/default/dso_loader.cc:55] Could not load dynamic library 'libcusparse.so.10'; dlerror: libcusparse.so.10: cannot open shared object file: No such file or directory\n",
      "2024-10-02 02:05:58.619366: W tensorflow/stream_executor/platform/default/dso_loader.cc:55] Could not load dynamic library 'libcudnn.so.7'; dlerror: libcudnn.so.7: cannot open shared object file: No such file or directory\n",
      "2024-10-02 02:05:58.619377: W tensorflow/core/common_runtime/gpu/gpu_device.cc:1592] Cannot dlopen some GPU libraries. Please make sure the missing libraries mentioned above are installed properly if you would like to use GPU. Follow the guide at https://www.tensorflow.org/install/gpu for how to download and setup the required libraries for your platform.\n",
      "Skipping registering GPU devices...\n",
      "2024-10-02 02:05:58.619958: I tensorflow/core/platform/cpu_feature_guard.cc:142] Your CPU supports instructions that this TensorFlow binary was not compiled to use: AVX2 FMA\n",
      "2024-10-02 02:05:58.635054: I tensorflow/core/platform/profile_utils/cpu_utils.cc:94] CPU Frequency: 2194875000 Hz\n",
      "2024-10-02 02:05:58.640454: I tensorflow/compiler/xla/service/service.cc:168] XLA service 0x561867cf9f00 initialized for platform Host (this does not guarantee that XLA will be used). Devices:\n",
      "2024-10-02 02:05:58.640500: I tensorflow/compiler/xla/service/service.cc:176]   StreamExecutor device (0): Host, Default Version\n",
      "2024-10-02 02:05:58.839730: I tensorflow/compiler/xla/service/service.cc:168] XLA service 0x561864e897d0 initialized for platform CUDA (this does not guarantee that XLA will be used). Devices:\n",
      "2024-10-02 02:05:58.839776: I tensorflow/compiler/xla/service/service.cc:176]   StreamExecutor device (0): Tesla V100-SXM2-32GB, Compute Capability 7.0\n",
      "2024-10-02 02:05:58.839940: I tensorflow/core/common_runtime/gpu/gpu_device.cc:1096] Device interconnect StreamExecutor with strength 1 edge matrix:\n",
      "2024-10-02 02:05:58.839950: I tensorflow/core/common_runtime/gpu/gpu_device.cc:1102]      \n"
     ]
    }
   ],
   "source": [
    "import numpy as np\n",
    "import torch.optim as optim\n",
    "import torch.nn.functional as F\n",
    "import torch.nn as nn\n",
    "import torch\n",
    "import tqdm\n",
    "import time\n",
    "import os\n",
    "import wandb\n",
    "import torch.backends.cudnn as cudnn\n",
    "import matplotlib.pyplot as plt\n",
    "from collections import OrderedDict\n",
    "from external_utils import format_time\n",
    "from utils.data_preprocessing import preprocess_dataset_get_dataset, generate_dataset_from_loader,preprocess_dataset_get_data_loader,get_data_loader\n",
    "from structure.dlgn_conv_config_structure import DatasetConfig\n",
    "import numpy as np\n",
    "import csv\n",
    "from conv4_models import get_model_instance_from_dataset, get_img_size\n",
    "from utils.forward_visualization_helpers import merge_operations_in_modules, apply_input_on_conv_matrix, merge_layers_operations_in_modules\n",
    "from sklearn import datasets, metrics, svm\n",
    "from tqdm import trange\n",
    "import pickle\n",
    "from structure.generic_structure import SaveFeatures\n",
    "from matplotlib import colors\n",
    "from sklearn.decomposition import PCA\n",
    "from adversarial_attacks_tester import apply_adversarial_attack_on_input"
   ]
  },
  {
   "cell_type": "code",
   "execution_count": 2,
   "metadata": {},
   "outputs": [
    {
     "name": "stdout",
     "output_type": "stream",
     "text": [
      "Requirement already satisfied: shap in /home/akshay/.conda/envs/research-work-DAG-DNN/lib/python3.7/site-packages (0.42.1)\n",
      "Requirement already satisfied: packaging>20.9 in /home/akshay/.local/lib/python3.7/site-packages (from shap) (24.0)\n",
      "Requirement already satisfied: pandas in /home/akshay/.conda/envs/research-work-DAG-DNN/lib/python3.7/site-packages (from shap) (1.3.5)\n",
      "Requirement already satisfied: tqdm>=4.27.0 in /home/akshay/.conda/envs/research-work-DAG-DNN/lib/python3.7/site-packages (from shap) (4.64.0)\n",
      "Requirement already satisfied: scipy in /home/akshay/.conda/envs/research-work-DAG-DNN/lib/python3.7/site-packages (from shap) (1.4.1)\n",
      "Requirement already satisfied: scikit-learn in /home/akshay/.conda/envs/research-work-DAG-DNN/lib/python3.7/site-packages (from shap) (1.0.2)\n",
      "Requirement already satisfied: numba in /home/akshay/.conda/envs/research-work-DAG-DNN/lib/python3.7/site-packages (from shap) (0.56.4)\n",
      "Requirement already satisfied: numpy in /home/akshay/.conda/envs/research-work-DAG-DNN/lib/python3.7/site-packages (from shap) (1.21.5)\n",
      "Requirement already satisfied: slicer==0.0.7 in /home/akshay/.conda/envs/research-work-DAG-DNN/lib/python3.7/site-packages (from shap) (0.0.7)\n",
      "Requirement already satisfied: cloudpickle in /home/akshay/.conda/envs/research-work-DAG-DNN/lib/python3.7/site-packages (from shap) (2.2.0)\n",
      "Requirement already satisfied: llvmlite<0.40,>=0.39.0dev0 in /home/akshay/.conda/envs/research-work-DAG-DNN/lib/python3.7/site-packages (from numba->shap) (0.39.1)\n",
      "Requirement already satisfied: importlib-metadata in /home/akshay/.conda/envs/research-work-DAG-DNN/lib/python3.7/site-packages (from numba->shap) (4.11.3)\n",
      "Requirement already satisfied: setuptools in /home/akshay/.local/lib/python3.7/site-packages (from numba->shap) (68.0.0)\n",
      "Requirement already satisfied: zipp>=0.5 in /home/akshay/.conda/envs/research-work-DAG-DNN/lib/python3.7/site-packages (from importlib-metadata->numba->shap) (3.8.0)\n",
      "Requirement already satisfied: typing-extensions>=3.6.4 in /home/akshay/.conda/envs/research-work-DAG-DNN/lib/python3.7/site-packages (from importlib-metadata->numba->shap) (4.4.0)\n",
      "Requirement already satisfied: python-dateutil>=2.7.3 in /home/akshay/.local/lib/python3.7/site-packages (from pandas->shap) (2.9.0.post0)\n",
      "Requirement already satisfied: pytz>=2017.3 in /home/akshay/.conda/envs/research-work-DAG-DNN/lib/python3.7/site-packages (from pandas->shap) (2022.1)\n",
      "Requirement already satisfied: six>=1.5 in /home/akshay/.local/lib/python3.7/site-packages (from python-dateutil>=2.7.3->pandas->shap) (1.16.0)\n",
      "Requirement already satisfied: threadpoolctl>=2.0.0 in /home/akshay/.conda/envs/research-work-DAG-DNN/lib/python3.7/site-packages (from scikit-learn->shap) (2.2.0)\n",
      "Requirement already satisfied: joblib>=0.11 in /home/akshay/.conda/envs/research-work-DAG-DNN/lib/python3.7/site-packages (from scikit-learn->shap) (1.1.0)\n"
     ]
    }
   ],
   "source": [
    "!pip install shap"
   ]
  },
  {
   "cell_type": "code",
   "execution_count": 3,
   "metadata": {},
   "outputs": [],
   "source": [
    "import shap"
   ]
  },
  {
   "cell_type": "code",
   "execution_count": 4,
   "metadata": {},
   "outputs": [],
   "source": [
    "device = torch.device(\"cuda\" if torch.cuda.is_available() else \"cpu\")"
   ]
  },
  {
   "cell_type": "code",
   "execution_count": 5,
   "metadata": {},
   "outputs": [
    {
     "name": "stdout",
     "output_type": "stream",
     "text": [
      "np.max(filtered_X_train) 255.0\n",
      "filtered_X_train  1.0 0.0\n",
      "filtered_X_test  1.0 0.0\n"
     ]
    }
   ],
   "source": [
    "model_arch_type = 'dnn'\n",
    "dataset = 'fashion_mnist'\n",
    "data_config = DatasetConfig(\n",
    "                dataset, is_normalize_data=True, valid_split_size=0.1, batch_size=8, list_of_classes=None,custom_dataset_path=None)\n",
    "\n",
    "filtered_X_train, filtered_y_train, _, _, filtered_X_test, filtered_y_test = preprocess_dataset_get_dataset(\n",
    "            data_config, model_arch_type, verbose=1, dataset_folder=\"./Datasets/\", is_split_validation=False)\n",
    "print(\"filtered_X_train \",np.max(filtered_X_train),np.min(filtered_X_train))\n",
    "print(\"filtered_X_test \",np.max(filtered_X_test),np.min(filtered_X_test))\n",
    "trainloader = get_data_loader(\n",
    "    filtered_X_train, filtered_y_train, data_config.batch_size, transforms=data_config.train_transforms)\n",
    "testloader = get_data_loader(\n",
    "    filtered_X_test, filtered_y_test, data_config.batch_size, transforms=data_config.test_transforms)\n",
    "\n",
    "# trainloader, _, testloader = preprocess_dataset_get_data_loader(\n",
    "#                 data_config, model_arch_type, verbose=1, dataset_folder=\"./Datasets/\", is_split_validation=False)"
   ]
  },
  {
   "cell_type": "code",
   "execution_count": 62,
   "metadata": {},
   "outputs": [],
   "source": [
    "class Loss_Wrapper_Module(nn.Module):\n",
    "    def __init__(self, actual_model):\n",
    "        super(Loss_Wrapper_Module, self).__init__()\n",
    "        self.actual_model = actual_model\n",
    "    \n",
    "    def forward(self, gating_signals=None,inp=None):\n",
    "        if(type(gating_signals)!=list):\n",
    "            gating_signals = torch.split(gating_signals,gating_signals.size()[-1]//len(self.actual_model.list_of_modules),-1)\n",
    "        if(inp is None):\n",
    "            inp = torch.ones(gating_signals[0].shape[0],1,self.actual_model.input_size).to(device=gating_signals[0].device)\n",
    "        \n",
    "        outputs = self.actual_model(inp,gating_signals)\n",
    "        # print(outputs.size())\n",
    "        return outputs"
   ]
  },
  {
   "cell_type": "code",
   "execution_count": 63,
   "metadata": {},
   "outputs": [],
   "source": [
    "def get_shapely_values(model_arch_type,mpath,trainloader,fc_width=128,fc_depth = 4,pca_exp_percent=None):\n",
    "    nodes_in_each_layer_list = [fc_width] * fc_depth\n",
    "    model = get_model_instance_from_dataset(dataset,model_arch_type, seed=2022, num_classes=10, nodes_in_each_layer_list=nodes_in_each_layer_list)\n",
    "    model.load_state_dict(torch.load(mpath).state_dict())\n",
    "    model = model.to(device)\n",
    "    model.eval()\n",
    "\n",
    "    # Define the loss function (CrossEntropyLoss)\n",
    "    criterion = nn.CrossEntropyLoss()\n",
    "\n",
    "    sample_data, sample_labels = tst = next(iter(trainloader))\n",
    "    sample_data = sample_data.to(device)\n",
    "    sample_labels = sample_labels.to(device)\n",
    "    print(\"sample_data \",sample_data.size())\n",
    "\n",
    "    inp_gating = torch.ones(sample_data.size(),requires_grad=True, device=device)\n",
    "\n",
    "    linear_conv_outputs, _ = model.gating_network(sample_data)\n",
    "\n",
    "    feature_map = [None] * len(linear_conv_outputs)\n",
    "    for indx in range(len(linear_conv_outputs)):\n",
    "        each_linear_conv_output = linear_conv_outputs[indx]\n",
    "        feature_map[indx] = nn.Sigmoid()(\n",
    "            model.beta * each_linear_conv_output)\n",
    "    feature_map = torch.cat(feature_map,dim=-1)\n",
    "    print(\"feature_map \",feature_map.size())\n",
    "\n",
    "    valnet = Loss_Wrapper_Module(model.value_network)\n",
    "    output = valnet(feature_map,inp_gating)\n",
    "\n",
    "    explainer = shap.DeepExplainer(valnet, feature_map)\n",
    "    shap_values = explainer.shap_values(feature_map)\n",
    "    \n",
    "    return shap_values,feature_map.detach().cpu().numpy()"
   ]
  },
  {
   "cell_type": "code",
   "execution_count": 64,
   "metadata": {},
   "outputs": [
    {
     "name": "stdout",
     "output_type": "stream",
     "text": [
      "self.gating_network Gating network  \n",
      " module_list:Linear(in_features=784, out_features=128, bias=True) \n",
      " Params in module is:100480\n",
      "Linear(in_features=128, out_features=128, bias=True) \n",
      " Params in module is:16512\n",
      "Linear(in_features=128, out_features=128, bias=True) \n",
      " Params in module is:16512\n",
      "Linear(in_features=128, out_features=128, bias=True) \n",
      " Params in module is:16512\n",
      "\n",
      "Gating net params: 150016\n",
      "self.value_network Value network  \n",
      " module_list:Linear(in_features=784, out_features=128, bias=True) \n",
      " Params in module is:100480\n",
      "Linear(in_features=128, out_features=128, bias=True) \n",
      " Params in module is:16512\n",
      "Linear(in_features=128, out_features=128, bias=True) \n",
      " Params in module is:16512\n",
      "Linear(in_features=128, out_features=128, bias=True) \n",
      " Params in module is:16512\n",
      "\n",
      "Value net params: 151306\n"
     ]
    },
    {
     "name": "stdout",
     "output_type": "stream",
     "text": [
      "sample_data  torch.Size([8, 1, 28, 28])\n",
      "feature_map  torch.Size([8, 512])\n"
     ]
    }
   ],
   "source": [
    "pgdat_path = \"root/model/save/fashion_mnist/adversarial_training/MT_fc_dlgn_W_128_D_4_ET_ADV_TRAINING/ST_2022/fast_adv_attack_type_PGD/adv_type_PGD/EPS_0.3/OPT_Adam (Parameter Group 0    amsgrad: False    betas: (0.9, 0.999)    eps: 1e-08    lr: 0.0001    weight_decay: 0)/batch_size_64/eps_stp_size_0.01/adv_steps_40/update_on_all/R_init_True/norm_inf/use_ytrue_True/out_lossfn_CrossEntropyLoss()/inner_lossfn_CrossEntropyLoss()/adv_model_dir.pt\"\n",
    "shap_values,fm = get_shapely_values(\"fc_dlgn\",pgdat_path,trainloader)"
   ]
  },
  {
   "cell_type": "code",
   "execution_count": 72,
   "metadata": {},
   "outputs": [
    {
     "data": {
      "text/plain": [
       "(10,\n",
       " [(8, 512),\n",
       "  (8, 512),\n",
       "  (8, 512),\n",
       "  (8, 512),\n",
       "  (8, 512),\n",
       "  (8, 512),\n",
       "  (8, 512),\n",
       "  (8, 512),\n",
       "  (8, 512),\n",
       "  (8, 512)],\n",
       " (8, 512))"
      ]
     },
     "execution_count": 72,
     "metadata": {},
     "output_type": "execute_result"
    }
   ],
   "source": [
    "len(shap_values),[i.shape for i in shap_values],fm.shape"
   ]
  },
  {
   "cell_type": "code",
   "execution_count": 74,
   "metadata": {},
   "outputs": [
    {
     "data": {
      "text/plain": [
       "((128, 4), (128, 4))"
      ]
     },
     "execution_count": 74,
     "metadata": {},
     "output_type": "execute_result"
    }
   ],
   "source": [
    "shap_values[0][0].reshape(128,4).shape, fm[0].reshape(128,4).shape"
   ]
  },
  {
   "cell_type": "code",
   "execution_count": 75,
   "metadata": {},
   "outputs": [
    {
     "data": {
      "image/png": "[encoded data removed]",
      "text/plain": [
       "<Figure size 600x500 with 3 Axes>"
      ]
     },
     "metadata": {},
     "output_type": "display_data"
    }
   ],
   "source": [
    "shap.image_plot(shap_values[0][0].reshape(1,128,4), fm[0].reshape(1,128,4))"
   ]
  },
  {
   "cell_type": "code",
   "execution_count": null,
   "metadata": {},
   "outputs": [],
   "source": []
  }
 ],
 "metadata": {
  "kernelspec": {
   "display_name": "research-work-DAG-DNN",
   "language": "python",
   "name": "python3"
  },
  "language_info": {
   "codemirror_mode": {
    "name": "ipython",
    "version": 3
   },
   "file_extension": ".py",
   "mimetype": "text/x-python",
   "name": "python",
   "nbconvert_exporter": "python",
   "pygments_lexer": "ipython3",
   "version": "3.7.13"
  }
 },
 "nbformat": 4,
 "nbformat_minor": 2
}
